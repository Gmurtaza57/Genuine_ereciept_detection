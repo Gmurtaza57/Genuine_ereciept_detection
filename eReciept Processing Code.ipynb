{
  "nbformat": 4,
  "nbformat_minor": 0,
  "metadata": {
    "colab": {
      "provenance": []
    },
    "kernelspec": {
      "name": "python3",
      "display_name": "Python 3"
    },
    "language_info": {
      "name": "python"
    }
  },
  "cells": [
    {
      "cell_type": "markdown",
      "source": [
        "**HTML File Directory**"
      ],
      "metadata": {
        "id": "8ehMUoFtGFcO"
      }
    },
    {
      "cell_type": "code",
      "execution_count": 60,
      "metadata": {
        "colab": {
          "base_uri": "https://localhost:8080/"
        },
        "id": "DWtPqpnj1FTy",
        "outputId": "e3a45a7f-7421-4be3-f257-e82f52a29805"
      },
      "outputs": [
        {
          "output_type": "stream",
          "name": "stdout",
          "text": [
            "/content\n"
          ]
        }
      ],
      "source": [
        "!pwd"
      ]
    },
    {
      "cell_type": "markdown",
      "source": [
        "**Downloading Libraries**"
      ],
      "metadata": {
        "id": "OwpBbUaLJ-tT"
      }
    },
    {
      "cell_type": "code",
      "source": [
        "!pip install -U spacy\n",
        "!python -m spacy download en_core_web_trf\n",
        "!pip install transformers"
      ],
      "metadata": {
        "id": "TBI53ZPyJ-QX",
        "colab": {
          "base_uri": "https://localhost:8080/"
        },
        "outputId": "7b0d5ffc-e76b-41c1-9478-b3dd5b46857b"
      },
      "execution_count": 61,
      "outputs": [
        {
          "output_type": "stream",
          "name": "stdout",
          "text": [
            "Requirement already satisfied: spacy in /usr/local/lib/python3.10/dist-packages (3.6.0)\n",
            "Requirement already satisfied: spacy-legacy<3.1.0,>=3.0.11 in /usr/local/lib/python3.10/dist-packages (from spacy) (3.0.12)\n",
            "Requirement already satisfied: spacy-loggers<2.0.0,>=1.0.0 in /usr/local/lib/python3.10/dist-packages (from spacy) (1.0.4)\n",
            "Requirement already satisfied: murmurhash<1.1.0,>=0.28.0 in /usr/local/lib/python3.10/dist-packages (from spacy) (1.0.9)\n",
            "Requirement already satisfied: cymem<2.1.0,>=2.0.2 in /usr/local/lib/python3.10/dist-packages (from spacy) (2.0.7)\n",
            "Requirement already satisfied: preshed<3.1.0,>=3.0.2 in /usr/local/lib/python3.10/dist-packages (from spacy) (3.0.8)\n",
            "Requirement already satisfied: thinc<8.2.0,>=8.1.8 in /usr/local/lib/python3.10/dist-packages (from spacy) (8.1.10)\n",
            "Requirement already satisfied: wasabi<1.2.0,>=0.9.1 in /usr/local/lib/python3.10/dist-packages (from spacy) (1.1.2)\n",
            "Requirement already satisfied: srsly<3.0.0,>=2.4.3 in /usr/local/lib/python3.10/dist-packages (from spacy) (2.4.7)\n",
            "Requirement already satisfied: catalogue<2.1.0,>=2.0.6 in /usr/local/lib/python3.10/dist-packages (from spacy) (2.0.8)\n",
            "Requirement already satisfied: typer<0.10.0,>=0.3.0 in /usr/local/lib/python3.10/dist-packages (from spacy) (0.9.0)\n",
            "Requirement already satisfied: pathy>=0.10.0 in /usr/local/lib/python3.10/dist-packages (from spacy) (0.10.2)\n",
            "Requirement already satisfied: smart-open<7.0.0,>=5.2.1 in /usr/local/lib/python3.10/dist-packages (from spacy) (6.3.0)\n",
            "Requirement already satisfied: tqdm<5.0.0,>=4.38.0 in /usr/local/lib/python3.10/dist-packages (from spacy) (4.65.0)\n",
            "Requirement already satisfied: numpy>=1.15.0 in /usr/local/lib/python3.10/dist-packages (from spacy) (1.22.4)\n",
            "Requirement already satisfied: requests<3.0.0,>=2.13.0 in /usr/local/lib/python3.10/dist-packages (from spacy) (2.27.1)\n",
            "Requirement already satisfied: pydantic!=1.8,!=1.8.1,<1.11.0,>=1.7.4 in /usr/local/lib/python3.10/dist-packages (from spacy) (1.10.11)\n",
            "Requirement already satisfied: jinja2 in /usr/local/lib/python3.10/dist-packages (from spacy) (3.1.2)\n",
            "Requirement already satisfied: setuptools in /usr/local/lib/python3.10/dist-packages (from spacy) (67.7.2)\n",
            "Requirement already satisfied: packaging>=20.0 in /usr/local/lib/python3.10/dist-packages (from spacy) (23.1)\n",
            "Requirement already satisfied: langcodes<4.0.0,>=3.2.0 in /usr/local/lib/python3.10/dist-packages (from spacy) (3.3.0)\n",
            "Requirement already satisfied: typing-extensions>=4.2.0 in /usr/local/lib/python3.10/dist-packages (from pydantic!=1.8,!=1.8.1,<1.11.0,>=1.7.4->spacy) (4.7.1)\n",
            "Requirement already satisfied: urllib3<1.27,>=1.21.1 in /usr/local/lib/python3.10/dist-packages (from requests<3.0.0,>=2.13.0->spacy) (1.26.16)\n",
            "Requirement already satisfied: certifi>=2017.4.17 in /usr/local/lib/python3.10/dist-packages (from requests<3.0.0,>=2.13.0->spacy) (2023.5.7)\n",
            "Requirement already satisfied: charset-normalizer~=2.0.0 in /usr/local/lib/python3.10/dist-packages (from requests<3.0.0,>=2.13.0->spacy) (2.0.12)\n",
            "Requirement already satisfied: idna<4,>=2.5 in /usr/local/lib/python3.10/dist-packages (from requests<3.0.0,>=2.13.0->spacy) (3.4)\n",
            "Requirement already satisfied: blis<0.8.0,>=0.7.8 in /usr/local/lib/python3.10/dist-packages (from thinc<8.2.0,>=8.1.8->spacy) (0.7.9)\n",
            "Requirement already satisfied: confection<1.0.0,>=0.0.1 in /usr/local/lib/python3.10/dist-packages (from thinc<8.2.0,>=8.1.8->spacy) (0.1.0)\n",
            "Requirement already satisfied: click<9.0.0,>=7.1.1 in /usr/local/lib/python3.10/dist-packages (from typer<0.10.0,>=0.3.0->spacy) (8.1.6)\n",
            "Requirement already satisfied: MarkupSafe>=2.0 in /usr/local/lib/python3.10/dist-packages (from jinja2->spacy) (2.1.3)\n",
            "2023-07-26 01:50:48.534762: W tensorflow/compiler/tf2tensorrt/utils/py_utils.cc:38] TF-TRT Warning: Could not find TensorRT\n",
            "Collecting en-core-web-trf==3.6.1\n",
            "  Downloading https://github.com/explosion/spacy-models/releases/download/en_core_web_trf-3.6.1/en_core_web_trf-3.6.1-py3-none-any.whl (460.3 MB)\n",
            "\u001b[2K     \u001b[90m━━━━━━━━━━━━━━━━━━━━━━━━━━━━━━━━━━━━━━━\u001b[0m \u001b[32m460.3/460.3 MB\u001b[0m \u001b[31m2.2 MB/s\u001b[0m eta \u001b[36m0:00:00\u001b[0m\n",
            "\u001b[?25hRequirement already satisfied: spacy<3.7.0,>=3.6.0 in /usr/local/lib/python3.10/dist-packages (from en-core-web-trf==3.6.1) (3.6.0)\n",
            "Requirement already satisfied: spacy-transformers<1.3.0,>=1.2.2 in /usr/local/lib/python3.10/dist-packages (from en-core-web-trf==3.6.1) (1.2.5)\n",
            "Requirement already satisfied: spacy-legacy<3.1.0,>=3.0.11 in /usr/local/lib/python3.10/dist-packages (from spacy<3.7.0,>=3.6.0->en-core-web-trf==3.6.1) (3.0.12)\n",
            "Requirement already satisfied: spacy-loggers<2.0.0,>=1.0.0 in /usr/local/lib/python3.10/dist-packages (from spacy<3.7.0,>=3.6.0->en-core-web-trf==3.6.1) (1.0.4)\n",
            "Requirement already satisfied: murmurhash<1.1.0,>=0.28.0 in /usr/local/lib/python3.10/dist-packages (from spacy<3.7.0,>=3.6.0->en-core-web-trf==3.6.1) (1.0.9)\n",
            "Requirement already satisfied: cymem<2.1.0,>=2.0.2 in /usr/local/lib/python3.10/dist-packages (from spacy<3.7.0,>=3.6.0->en-core-web-trf==3.6.1) (2.0.7)\n",
            "Requirement already satisfied: preshed<3.1.0,>=3.0.2 in /usr/local/lib/python3.10/dist-packages (from spacy<3.7.0,>=3.6.0->en-core-web-trf==3.6.1) (3.0.8)\n",
            "Requirement already satisfied: thinc<8.2.0,>=8.1.8 in /usr/local/lib/python3.10/dist-packages (from spacy<3.7.0,>=3.6.0->en-core-web-trf==3.6.1) (8.1.10)\n",
            "Requirement already satisfied: wasabi<1.2.0,>=0.9.1 in /usr/local/lib/python3.10/dist-packages (from spacy<3.7.0,>=3.6.0->en-core-web-trf==3.6.1) (1.1.2)\n",
            "Requirement already satisfied: srsly<3.0.0,>=2.4.3 in /usr/local/lib/python3.10/dist-packages (from spacy<3.7.0,>=3.6.0->en-core-web-trf==3.6.1) (2.4.7)\n",
            "Requirement already satisfied: catalogue<2.1.0,>=2.0.6 in /usr/local/lib/python3.10/dist-packages (from spacy<3.7.0,>=3.6.0->en-core-web-trf==3.6.1) (2.0.8)\n",
            "Requirement already satisfied: typer<0.10.0,>=0.3.0 in /usr/local/lib/python3.10/dist-packages (from spacy<3.7.0,>=3.6.0->en-core-web-trf==3.6.1) (0.9.0)\n",
            "Requirement already satisfied: pathy>=0.10.0 in /usr/local/lib/python3.10/dist-packages (from spacy<3.7.0,>=3.6.0->en-core-web-trf==3.6.1) (0.10.2)\n",
            "Requirement already satisfied: smart-open<7.0.0,>=5.2.1 in /usr/local/lib/python3.10/dist-packages (from spacy<3.7.0,>=3.6.0->en-core-web-trf==3.6.1) (6.3.0)\n",
            "Requirement already satisfied: tqdm<5.0.0,>=4.38.0 in /usr/local/lib/python3.10/dist-packages (from spacy<3.7.0,>=3.6.0->en-core-web-trf==3.6.1) (4.65.0)\n",
            "Requirement already satisfied: numpy>=1.15.0 in /usr/local/lib/python3.10/dist-packages (from spacy<3.7.0,>=3.6.0->en-core-web-trf==3.6.1) (1.22.4)\n",
            "Requirement already satisfied: requests<3.0.0,>=2.13.0 in /usr/local/lib/python3.10/dist-packages (from spacy<3.7.0,>=3.6.0->en-core-web-trf==3.6.1) (2.27.1)\n",
            "Requirement already satisfied: pydantic!=1.8,!=1.8.1,<1.11.0,>=1.7.4 in /usr/local/lib/python3.10/dist-packages (from spacy<3.7.0,>=3.6.0->en-core-web-trf==3.6.1) (1.10.11)\n",
            "Requirement already satisfied: jinja2 in /usr/local/lib/python3.10/dist-packages (from spacy<3.7.0,>=3.6.0->en-core-web-trf==3.6.1) (3.1.2)\n",
            "Requirement already satisfied: setuptools in /usr/local/lib/python3.10/dist-packages (from spacy<3.7.0,>=3.6.0->en-core-web-trf==3.6.1) (67.7.2)\n",
            "Requirement already satisfied: packaging>=20.0 in /usr/local/lib/python3.10/dist-packages (from spacy<3.7.0,>=3.6.0->en-core-web-trf==3.6.1) (23.1)\n",
            "Requirement already satisfied: langcodes<4.0.0,>=3.2.0 in /usr/local/lib/python3.10/dist-packages (from spacy<3.7.0,>=3.6.0->en-core-web-trf==3.6.1) (3.3.0)\n",
            "Requirement already satisfied: transformers<4.31.0,>=3.4.0 in /usr/local/lib/python3.10/dist-packages (from spacy-transformers<1.3.0,>=1.2.2->en-core-web-trf==3.6.1) (4.30.2)\n",
            "Requirement already satisfied: torch>=1.8.0 in /usr/local/lib/python3.10/dist-packages (from spacy-transformers<1.3.0,>=1.2.2->en-core-web-trf==3.6.1) (2.0.1+cu118)\n",
            "Requirement already satisfied: spacy-alignments<1.0.0,>=0.7.2 in /usr/local/lib/python3.10/dist-packages (from spacy-transformers<1.3.0,>=1.2.2->en-core-web-trf==3.6.1) (0.9.0)\n",
            "Requirement already satisfied: typing-extensions>=4.2.0 in /usr/local/lib/python3.10/dist-packages (from pydantic!=1.8,!=1.8.1,<1.11.0,>=1.7.4->spacy<3.7.0,>=3.6.0->en-core-web-trf==3.6.1) (4.7.1)\n",
            "Requirement already satisfied: urllib3<1.27,>=1.21.1 in /usr/local/lib/python3.10/dist-packages (from requests<3.0.0,>=2.13.0->spacy<3.7.0,>=3.6.0->en-core-web-trf==3.6.1) (1.26.16)\n",
            "Requirement already satisfied: certifi>=2017.4.17 in /usr/local/lib/python3.10/dist-packages (from requests<3.0.0,>=2.13.0->spacy<3.7.0,>=3.6.0->en-core-web-trf==3.6.1) (2023.5.7)\n",
            "Requirement already satisfied: charset-normalizer~=2.0.0 in /usr/local/lib/python3.10/dist-packages (from requests<3.0.0,>=2.13.0->spacy<3.7.0,>=3.6.0->en-core-web-trf==3.6.1) (2.0.12)\n",
            "Requirement already satisfied: idna<4,>=2.5 in /usr/local/lib/python3.10/dist-packages (from requests<3.0.0,>=2.13.0->spacy<3.7.0,>=3.6.0->en-core-web-trf==3.6.1) (3.4)\n",
            "Requirement already satisfied: blis<0.8.0,>=0.7.8 in /usr/local/lib/python3.10/dist-packages (from thinc<8.2.0,>=8.1.8->spacy<3.7.0,>=3.6.0->en-core-web-trf==3.6.1) (0.7.9)\n",
            "Requirement already satisfied: confection<1.0.0,>=0.0.1 in /usr/local/lib/python3.10/dist-packages (from thinc<8.2.0,>=8.1.8->spacy<3.7.0,>=3.6.0->en-core-web-trf==3.6.1) (0.1.0)\n",
            "Requirement already satisfied: filelock in /usr/local/lib/python3.10/dist-packages (from torch>=1.8.0->spacy-transformers<1.3.0,>=1.2.2->en-core-web-trf==3.6.1) (3.12.2)\n",
            "Requirement already satisfied: sympy in /usr/local/lib/python3.10/dist-packages (from torch>=1.8.0->spacy-transformers<1.3.0,>=1.2.2->en-core-web-trf==3.6.1) (1.11.1)\n",
            "Requirement already satisfied: networkx in /usr/local/lib/python3.10/dist-packages (from torch>=1.8.0->spacy-transformers<1.3.0,>=1.2.2->en-core-web-trf==3.6.1) (3.1)\n",
            "Requirement already satisfied: triton==2.0.0 in /usr/local/lib/python3.10/dist-packages (from torch>=1.8.0->spacy-transformers<1.3.0,>=1.2.2->en-core-web-trf==3.6.1) (2.0.0)\n",
            "Requirement already satisfied: cmake in /usr/local/lib/python3.10/dist-packages (from triton==2.0.0->torch>=1.8.0->spacy-transformers<1.3.0,>=1.2.2->en-core-web-trf==3.6.1) (3.25.2)\n",
            "Requirement already satisfied: lit in /usr/local/lib/python3.10/dist-packages (from triton==2.0.0->torch>=1.8.0->spacy-transformers<1.3.0,>=1.2.2->en-core-web-trf==3.6.1) (16.0.6)\n",
            "Requirement already satisfied: huggingface-hub<1.0,>=0.14.1 in /usr/local/lib/python3.10/dist-packages (from transformers<4.31.0,>=3.4.0->spacy-transformers<1.3.0,>=1.2.2->en-core-web-trf==3.6.1) (0.16.4)\n",
            "Requirement already satisfied: pyyaml>=5.1 in /usr/local/lib/python3.10/dist-packages (from transformers<4.31.0,>=3.4.0->spacy-transformers<1.3.0,>=1.2.2->en-core-web-trf==3.6.1) (6.0.1)\n",
            "Requirement already satisfied: regex!=2019.12.17 in /usr/local/lib/python3.10/dist-packages (from transformers<4.31.0,>=3.4.0->spacy-transformers<1.3.0,>=1.2.2->en-core-web-trf==3.6.1) (2022.10.31)\n",
            "Requirement already satisfied: tokenizers!=0.11.3,<0.14,>=0.11.1 in /usr/local/lib/python3.10/dist-packages (from transformers<4.31.0,>=3.4.0->spacy-transformers<1.3.0,>=1.2.2->en-core-web-trf==3.6.1) (0.13.3)\n",
            "Requirement already satisfied: safetensors>=0.3.1 in /usr/local/lib/python3.10/dist-packages (from transformers<4.31.0,>=3.4.0->spacy-transformers<1.3.0,>=1.2.2->en-core-web-trf==3.6.1) (0.3.1)\n",
            "Requirement already satisfied: click<9.0.0,>=7.1.1 in /usr/local/lib/python3.10/dist-packages (from typer<0.10.0,>=0.3.0->spacy<3.7.0,>=3.6.0->en-core-web-trf==3.6.1) (8.1.6)\n",
            "Requirement already satisfied: MarkupSafe>=2.0 in /usr/local/lib/python3.10/dist-packages (from jinja2->spacy<3.7.0,>=3.6.0->en-core-web-trf==3.6.1) (2.1.3)\n",
            "Requirement already satisfied: fsspec in /usr/local/lib/python3.10/dist-packages (from huggingface-hub<1.0,>=0.14.1->transformers<4.31.0,>=3.4.0->spacy-transformers<1.3.0,>=1.2.2->en-core-web-trf==3.6.1) (2023.6.0)\n",
            "Requirement already satisfied: mpmath>=0.19 in /usr/local/lib/python3.10/dist-packages (from sympy->torch>=1.8.0->spacy-transformers<1.3.0,>=1.2.2->en-core-web-trf==3.6.1) (1.3.0)\n",
            "\u001b[38;5;2m✔ Download and installation successful\u001b[0m\n",
            "You can now load the package via spacy.load('en_core_web_trf')\n",
            "Requirement already satisfied: transformers in /usr/local/lib/python3.10/dist-packages (4.30.2)\n",
            "Requirement already satisfied: filelock in /usr/local/lib/python3.10/dist-packages (from transformers) (3.12.2)\n",
            "Requirement already satisfied: huggingface-hub<1.0,>=0.14.1 in /usr/local/lib/python3.10/dist-packages (from transformers) (0.16.4)\n",
            "Requirement already satisfied: numpy>=1.17 in /usr/local/lib/python3.10/dist-packages (from transformers) (1.22.4)\n",
            "Requirement already satisfied: packaging>=20.0 in /usr/local/lib/python3.10/dist-packages (from transformers) (23.1)\n",
            "Requirement already satisfied: pyyaml>=5.1 in /usr/local/lib/python3.10/dist-packages (from transformers) (6.0.1)\n",
            "Requirement already satisfied: regex!=2019.12.17 in /usr/local/lib/python3.10/dist-packages (from transformers) (2022.10.31)\n",
            "Requirement already satisfied: requests in /usr/local/lib/python3.10/dist-packages (from transformers) (2.27.1)\n",
            "Requirement already satisfied: tokenizers!=0.11.3,<0.14,>=0.11.1 in /usr/local/lib/python3.10/dist-packages (from transformers) (0.13.3)\n",
            "Requirement already satisfied: safetensors>=0.3.1 in /usr/local/lib/python3.10/dist-packages (from transformers) (0.3.1)\n",
            "Requirement already satisfied: tqdm>=4.27 in /usr/local/lib/python3.10/dist-packages (from transformers) (4.65.0)\n",
            "Requirement already satisfied: fsspec in /usr/local/lib/python3.10/dist-packages (from huggingface-hub<1.0,>=0.14.1->transformers) (2023.6.0)\n",
            "Requirement already satisfied: typing-extensions>=3.7.4.3 in /usr/local/lib/python3.10/dist-packages (from huggingface-hub<1.0,>=0.14.1->transformers) (4.7.1)\n",
            "Requirement already satisfied: urllib3<1.27,>=1.21.1 in /usr/local/lib/python3.10/dist-packages (from requests->transformers) (1.26.16)\n",
            "Requirement already satisfied: certifi>=2017.4.17 in /usr/local/lib/python3.10/dist-packages (from requests->transformers) (2023.5.7)\n",
            "Requirement already satisfied: charset-normalizer~=2.0.0 in /usr/local/lib/python3.10/dist-packages (from requests->transformers) (2.0.12)\n",
            "Requirement already satisfied: idna<4,>=2.5 in /usr/local/lib/python3.10/dist-packages (from requests->transformers) (3.4)\n"
          ]
        }
      ]
    },
    {
      "cell_type": "markdown",
      "source": [
        "**Import Libraries**"
      ],
      "metadata": {
        "id": "fCP7jf36GK53"
      }
    },
    {
      "cell_type": "code",
      "source": [
        "import re\n",
        "import spacy\n",
        "from bs4 import BeautifulSoup\n",
        "import torch\n",
        "from transformers import LayoutLMForTokenClassification, LayoutLMTokenizer"
      ],
      "metadata": {
        "id": "Zqb0HJPO1N3U"
      },
      "execution_count": 62,
      "outputs": []
    },
    {
      "cell_type": "markdown",
      "source": [
        "**Loading Models spaCY NER and LayoutLM**"
      ],
      "metadata": {
        "id": "IScmvDV4Zed7"
      }
    },
    {
      "cell_type": "code",
      "source": [
        "#Load SpaCY NER Model\n",
        "nlp = spacy.load(\"en_core_web_sm\")\n",
        "# Load the LayoutLM model and tokenizer\n",
        "model_name = \"microsoft/layoutlm-base-uncased\"\n",
        "model = LayoutLMForTokenClassification.from_pretrained(model_name)\n",
        "tokenizer = LayoutLMTokenizer.from_pretrained(model_name)"
      ],
      "metadata": {
        "colab": {
          "base_uri": "https://localhost:8080/"
        },
        "id": "XezPn09dZD05",
        "outputId": "aebe5b29-58bf-4905-a734-9d88846a1d7e"
      },
      "execution_count": 63,
      "outputs": [
        {
          "output_type": "stream",
          "name": "stderr",
          "text": [
            "Some weights of the model checkpoint at microsoft/layoutlm-base-uncased were not used when initializing LayoutLMForTokenClassification: ['cls.predictions.transform.dense.bias', 'cls.predictions.transform.LayerNorm.weight', 'cls.predictions.transform.LayerNorm.bias', 'cls.predictions.transform.dense.weight', 'cls.predictions.decoder.weight', 'cls.predictions.bias', 'cls.predictions.decoder.bias']\n",
            "- This IS expected if you are initializing LayoutLMForTokenClassification from the checkpoint of a model trained on another task or with another architecture (e.g. initializing a BertForSequenceClassification model from a BertForPreTraining model).\n",
            "- This IS NOT expected if you are initializing LayoutLMForTokenClassification from the checkpoint of a model that you expect to be exactly identical (initializing a BertForSequenceClassification model from a BertForSequenceClassification model).\n",
            "Some weights of LayoutLMForTokenClassification were not initialized from the model checkpoint at microsoft/layoutlm-base-uncased and are newly initialized: ['classifier.bias', 'classifier.weight']\n",
            "You should probably TRAIN this model on a down-stream task to be able to use it for predictions and inference.\n"
          ]
        }
      ]
    },
    {
      "cell_type": "markdown",
      "source": [
        "**Key Information Extraction Function Using Models for Dummy Samples**"
      ],
      "metadata": {
        "id": "gT_k8umJP_on"
      }
    },
    {
      "cell_type": "code",
      "source": [
        "def extract_key_information_from_html(html):\n",
        "    #Function Docstrings for easy readibility in \"\"\" for anyone who is looking through my code.\n",
        "    \"\"\"\n",
        "    Extracts key information from the provided eReceipt HTML content.\n",
        "\n",
        "    Parameters:\n",
        "        html (str): The HTML content of the eReceipt.\n",
        "\n",
        "    Returns:\n",
        "        dict or None: A dictionary containing the extracted key information\n",
        "                      (store name, receipt date, subtotal, total, order ID, and products).\n",
        "                      Returns None if the provided HTML is not a genuine eReceipt.\n",
        "    \"\"\"\n",
        "    marketing_pattern = r\"(marketing)\"\n",
        "    refund_pattern = r\"refunded\"\n",
        "    credit_pattern = r\"credit\"\n",
        "    cancellation_pattern = r\"cancellation\"\n",
        "    shipping_update = r\"shipping update\"\n",
        "\n",
        "\n",
        "\n",
        "    soup = BeautifulSoup(html, \"html.parser\")\n",
        "    text = soup.get_text()\n",
        "    \"\"\"\n",
        "    Checks whether the provided HTML content is a genuine eReceipt or not.\n",
        "\n",
        "    Parameters:\n",
        "        html (str): The HTML content to be checked.\n",
        "\n",
        "    Returns:\n",
        "        bool: True if the provided HTML is a genuine eReceipt, False otherwise.\n",
        "    \"\"\"\n",
        "    if re.search(marketing_pattern, text, re.IGNORECASE) or \\\n",
        "       re.search(refund_pattern, text, re.IGNORECASE) or \\\n",
        "       re.search(credit_pattern, text, re.IGNORECASE) or \\\n",
        "       re.search(cancellation_pattern, text, re.IGNORECASE)or \\\n",
        "       re.search(shipping_update, text, re.IGNORECASE):\n",
        "        return None\n",
        "\n",
        "    # Apply spaCy NER to identify general entities\n",
        "    doc = nlp(text)\n",
        "\n",
        "    org_name = None\n",
        "    for ent in doc.ents:\n",
        "        if ent.label_ == \"ORG\":\n",
        "            org_name = ent.text\n",
        "\n",
        "    # Extract specific entities using regular expressions\n",
        "    receipt_date = re.search(r\"\\d{1,2}/\\d{1,2}/\\d{4}\", text)\n",
        "    receipt_subtotal = re.search(r\"Sub Total: \\$([\\d.]+)\", text)\n",
        "    receipt_total = re.search(r\"Order Total: \\$([\\d.]+)\", text)\n",
        "    order_id = re.search(r\"Order No\\.:\\s*(\\d+)\", text)\n",
        "\n",
        "    product_info = []\n",
        "    product_pattern = r\"\\s+(.*?)\\s+(\\d+)\\s+\\$(\\d+\\.\\d{2})\\s+(\\d{1,2}/\\d{1,2}/\\d{4})\"\n",
        "    product_matches = re.findall(product_pattern, text)\n",
        "    for match in product_matches:\n",
        "        product_description, product_quantity, product_price, product_date = match\n",
        "        product_info.append({\n",
        "            \"product_description\": product_description.strip(),\n",
        "            \"product_quantity\": int(product_quantity),\n",
        "            \"product_price\": float(product_price),\n",
        "            \"product_date\": product_date\n",
        "        })\n",
        "\n",
        "    # Check for general entities from spaCy NER\n",
        "    entities = {}\n",
        "    for ent in doc.ents:\n",
        "     if ent.label_ in [\"ORG\"]:\n",
        "        if \"ORG\" not in entities:\n",
        "            entities[\"ORG\"] = ent.text\n",
        "            if \"Order Confirmation\" in entities[\"ORG\"]:\n",
        "                entities[\"ORG\"] = entities[\"ORG\"].replace(\"Order Confirmation\", \"\")\n",
        "            break\n",
        "\n",
        "    # Add specific entities to the result\n",
        "    entities[\"receipt_date\"] = receipt_date.group() if receipt_date else None\n",
        "    entities[\"receipt_subtotal\"] = float(receipt_subtotal.group(1)) if receipt_subtotal else None\n",
        "    entities[\"receipt_total\"] = float(receipt_total.group(1)) if receipt_total else None\n",
        "    entities[\"order_id\"] = int(order_id.group(1)) if order_id else None\n",
        "    entities[\"products\"] = product_info if product_info else None\n",
        "\n",
        "    return entities"
      ],
      "metadata": {
        "id": "7K4X5RxUFeRt"
      },
      "execution_count": 64,
      "outputs": []
    },
    {
      "cell_type": "code",
      "source": [
        "def extract_key_information_from_file(file_path):\n",
        "    \"\"\"\n",
        "    Extracts key information from the provided eReceipt HTML file.\n",
        "\n",
        "    Parameters:\n",
        "        file_path (str): The file path of the eReceipt HTML file.\n",
        "\n",
        "    Returns:\n",
        "        dict or None: A dictionary containing the extracted key information\n",
        "                      (store name, receipt date, subtotal, total, order ID, and products).\n",
        "                      Returns None if the provided HTML is not a genuine eReceipt.\n",
        "    \"\"\"\n",
        "    # Read the HTML content from the file\n",
        "    with open(file_path, \"r\") as file:\n",
        "        html_content = file.read()\n",
        "\n",
        "    # Load the LayoutLM model and tokenizer\n",
        "    model_name = \"microsoft/layoutlm-base-uncased\"\n",
        "    model = LayoutLMForTokenClassification.from_pretrained(model_name)\n",
        "    tokenizer = LayoutLMTokenizer.from_pretrained(model_name)\n",
        "\n",
        "    # Perform inference using the LayoutLM model for token classification\n",
        "    inputs = tokenizer(html_content, return_tensors=\"pt\", truncation=True, padding=True)\n",
        "    outputs = model(**inputs)\n",
        "\n",
        "    # Rest of the code for extracting key information remains the same\n",
        "    key_information = extract_key_information_from_html(html_content)\n",
        "    if key_information is not None:\n",
        "        print(\"\\n\\nGenuine eReceipt\\n\\n. Extracted key information:\")\n",
        "        print(key_information)\n",
        "    else:\n",
        "        print(\"\\n\\n\\nNot a genuine eReceipt.\")\n",
        "\n",
        "    return key_information"
      ],
      "metadata": {
        "id": "ZSWd9yQI2HsL"
      },
      "execution_count": 65,
      "outputs": []
    },
    {
      "cell_type": "markdown",
      "source": [
        "***Detecting if Dummy_order.html is genuine or not and then extracting key information  ***"
      ],
      "metadata": {
        "id": "sgxV_xhaikOd"
      }
    },
    {
      "cell_type": "code",
      "source": [
        "# File path of the eReceipt HTML file\n",
        "file_path = \"/content/dummy_order.html\"\n",
        "\n",
        "key_information=extract_key_information_from_file(file_path)"
      ],
      "metadata": {
        "colab": {
          "base_uri": "https://localhost:8080/"
        },
        "id": "ujfjczFyb2pi",
        "outputId": "20a1c0fa-f437-46bb-98a3-7621d2886bfc"
      },
      "execution_count": 66,
      "outputs": [
        {
          "output_type": "stream",
          "name": "stderr",
          "text": [
            "Some weights of the model checkpoint at microsoft/layoutlm-base-uncased were not used when initializing LayoutLMForTokenClassification: ['cls.predictions.transform.dense.bias', 'cls.predictions.transform.LayerNorm.weight', 'cls.predictions.transform.LayerNorm.bias', 'cls.predictions.transform.dense.weight', 'cls.predictions.decoder.weight', 'cls.predictions.bias', 'cls.predictions.decoder.bias']\n",
            "- This IS expected if you are initializing LayoutLMForTokenClassification from the checkpoint of a model trained on another task or with another architecture (e.g. initializing a BertForSequenceClassification model from a BertForPreTraining model).\n",
            "- This IS NOT expected if you are initializing LayoutLMForTokenClassification from the checkpoint of a model that you expect to be exactly identical (initializing a BertForSequenceClassification model from a BertForSequenceClassification model).\n",
            "Some weights of LayoutLMForTokenClassification were not initialized from the model checkpoint at microsoft/layoutlm-base-uncased and are newly initialized: ['classifier.bias', 'classifier.weight']\n",
            "You should probably TRAIN this model on a down-stream task to be able to use it for predictions and inference.\n"
          ]
        },
        {
          "output_type": "stream",
          "name": "stdout",
          "text": [
            "\n",
            "\n",
            "Genuine eReceipt\n",
            "\n",
            ". Extracted key information:\n",
            "{'ORG': 'Barnes & Noble ', 'receipt_date': '10/21/2022', 'receipt_subtotal': 43.38, 'receipt_total': 46.83, 'order_id': 241300967, 'products': [{'product_description': 'The Fine Print  by Lauren Asher  Paperback', 'product_quantity': 1, 'product_price': 14.99, 'product_date': '10/21/2022'}, {'product_description': 'Twisted Love - Special Edition (Twisted Series #1)  by Ana Huang  Paperback', 'product_quantity': 1, 'product_price': 13.99, 'product_date': '10/21/2022'}, {'product_description': 'Ice Planet Barbarians  by Ruby Dixon  Paperback', 'product_quantity': 1, 'product_price': 14.4, 'product_date': '10/22/2022'}]}\n"
          ]
        }
      ]
    },
    {
      "cell_type": "code",
      "source": [
        "def print_receipt_information(key_information):\n",
        "    #function docstring for easy readiblity of what this function is doing in \"\"\"\n",
        "    \"\"\"\n",
        "    Prints the extracted key information in a formatted manner.\n",
        "\n",
        "    Parameters:\n",
        "        key_information (dict): A dictionary containing the extracted key information\n",
        "                                (store name, receipt date, subtotal, total, order ID, and products).\n",
        "    \"\"\"\n",
        "\n",
        "    print(\"Genuine eReceipt. Extracted key information:\")\n",
        "    print(\"-\" * 70)\n",
        "    print(f\"{'Store Name:':<25} {key_information['ORG']}\")\n",
        "    print(f\"{'Receipt Date:':<25} {key_information['receipt_date']}\")\n",
        "    print(f\"{'Receipt Subtotal:':<25} ${key_information['receipt_subtotal']:.2f}\")\n",
        "    print(f\"{'Receipt Total:':<25} ${key_information['receipt_total']:.2f}\")\n",
        "    print(f\"{'Order ID:':<25} {key_information['order_id']}\")\n",
        "    print(\"-\" * 70)\n",
        "    print(\"Products:\")\n",
        "    print(\"-\" * 70)\n",
        "    for product in key_information['products']:\n",
        "        print(f\"{'Product Description:':<30} {product['product_description']}\")\n",
        "        print(f\"{'Product Quantity:':<30} {product['product_quantity']}\")\n",
        "        print(f\"{'Product Price:':<30} ${product['product_price']:.2f}\")\n",
        "        print(f\"{'Product Date:':<30} {product['product_date']}\")\n",
        "        print(\"-\" * 70)\n",
        "\n",
        "# Call the function to print the formatted results\n",
        "print_receipt_information(key_information)\n"
      ],
      "metadata": {
        "colab": {
          "base_uri": "https://localhost:8080/"
        },
        "id": "Ol56R6SkVPWL",
        "outputId": "14f6e584-3dc0-4427-9644-28becc41ddac"
      },
      "execution_count": 67,
      "outputs": [
        {
          "output_type": "stream",
          "name": "stdout",
          "text": [
            "Genuine eReceipt. Extracted key information:\n",
            "----------------------------------------------------------------------\n",
            "Store Name:               Barnes & Noble \n",
            "Receipt Date:             10/21/2022\n",
            "Receipt Subtotal:         $43.38\n",
            "Receipt Total:            $46.83\n",
            "Order ID:                 241300967\n",
            "----------------------------------------------------------------------\n",
            "Products:\n",
            "----------------------------------------------------------------------\n",
            "Product Description:           The Fine Print  by Lauren Asher  Paperback\n",
            "Product Quantity:              1\n",
            "Product Price:                 $14.99\n",
            "Product Date:                  10/21/2022\n",
            "----------------------------------------------------------------------\n",
            "Product Description:           Twisted Love - Special Edition (Twisted Series #1)  by Ana Huang  Paperback\n",
            "Product Quantity:              1\n",
            "Product Price:                 $13.99\n",
            "Product Date:                  10/21/2022\n",
            "----------------------------------------------------------------------\n",
            "Product Description:           Ice Planet Barbarians  by Ruby Dixon  Paperback\n",
            "Product Quantity:              1\n",
            "Product Price:                 $14.40\n",
            "Product Date:                  10/22/2022\n",
            "----------------------------------------------------------------------\n"
          ]
        }
      ]
    },
    {
      "cell_type": "markdown",
      "source": [
        "***Detecting if dummy_shipping.html is genuine or not and then detecting the key information***"
      ],
      "metadata": {
        "id": "AQFSLm5Mi2XI"
      }
    },
    {
      "cell_type": "code",
      "source": [
        "# File path of the eReceipt HTML file\n",
        "file_path = \"/content/dummy_shipping.html\"\n",
        "\n",
        "key_information=extract_key_information_from_file(file_path)"
      ],
      "metadata": {
        "colab": {
          "base_uri": "https://localhost:8080/"
        },
        "id": "XzUZBZdAjB1A",
        "outputId": "18d0dc74-4259-4af4-d2ff-0e1470232042"
      },
      "execution_count": 68,
      "outputs": [
        {
          "output_type": "stream",
          "name": "stderr",
          "text": [
            "Some weights of the model checkpoint at microsoft/layoutlm-base-uncased were not used when initializing LayoutLMForTokenClassification: ['cls.predictions.transform.dense.bias', 'cls.predictions.transform.LayerNorm.weight', 'cls.predictions.transform.LayerNorm.bias', 'cls.predictions.transform.dense.weight', 'cls.predictions.decoder.weight', 'cls.predictions.bias', 'cls.predictions.decoder.bias']\n",
            "- This IS expected if you are initializing LayoutLMForTokenClassification from the checkpoint of a model trained on another task or with another architecture (e.g. initializing a BertForSequenceClassification model from a BertForPreTraining model).\n",
            "- This IS NOT expected if you are initializing LayoutLMForTokenClassification from the checkpoint of a model that you expect to be exactly identical (initializing a BertForSequenceClassification model from a BertForSequenceClassification model).\n",
            "Some weights of LayoutLMForTokenClassification were not initialized from the model checkpoint at microsoft/layoutlm-base-uncased and are newly initialized: ['classifier.bias', 'classifier.weight']\n",
            "You should probably TRAIN this model on a down-stream task to be able to use it for predictions and inference.\n"
          ]
        },
        {
          "output_type": "stream",
          "name": "stdout",
          "text": [
            "\n",
            "\n",
            "\n",
            "Not a genuine eReceipt.\n"
          ]
        }
      ]
    }
  ]
}